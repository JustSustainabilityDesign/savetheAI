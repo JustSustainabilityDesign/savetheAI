{
 "cells": [
  {
   "cell_type": "code",
   "execution_count": 1,
   "id": "8d90cd78-a8ae-4d77-b91f-ef95c8c2b513",
   "metadata": {},
   "outputs": [
    {
     "name": "stdout",
     "output_type": "stream",
     "text": [
      "Requirement already satisfied: getorg in /Users/athapa/jupyter-v2/lib/python3.12/site-packages (0.3.1)\n",
      "Requirement already satisfied: folium in /Users/athapa/jupyter-v2/lib/python3.12/site-packages (0.19.4)\n",
      "Requirement already satisfied: geopy in /Users/athapa/jupyter-v2/lib/python3.12/site-packages (from getorg) (2.4.1)\n",
      "Requirement already satisfied: pygithub in /Users/athapa/jupyter-v2/lib/python3.12/site-packages (from getorg) (2.6.1)\n",
      "Requirement already satisfied: retrying in /Users/athapa/jupyter-v2/lib/python3.12/site-packages (from getorg) (1.3.4)\n",
      "Requirement already satisfied: branca>=0.6.0 in /Users/athapa/jupyter-v2/lib/python3.12/site-packages (from folium) (0.8.1)\n",
      "Requirement already satisfied: jinja2>=2.9 in /Users/athapa/jupyter-v2/lib/python3.12/site-packages (from folium) (3.1.4)\n",
      "Requirement already satisfied: numpy in /Users/athapa/jupyter-v2/lib/python3.12/site-packages (from folium) (1.26.4)\n",
      "Requirement already satisfied: requests in /Users/athapa/jupyter-v2/lib/python3.12/site-packages (from folium) (2.32.3)\n",
      "Requirement already satisfied: xyzservices in /Users/athapa/jupyter-v2/lib/python3.12/site-packages (from folium) (2025.1.0)\n",
      "Requirement already satisfied: MarkupSafe>=2.0 in /Users/athapa/jupyter-v2/lib/python3.12/site-packages (from jinja2>=2.9->folium) (3.0.2)\n",
      "Requirement already satisfied: geographiclib<3,>=1.52 in /Users/athapa/jupyter-v2/lib/python3.12/site-packages (from geopy->getorg) (2.0)\n",
      "Requirement already satisfied: pynacl>=1.4.0 in /Users/athapa/jupyter-v2/lib/python3.12/site-packages (from pygithub->getorg) (1.5.0)\n",
      "Requirement already satisfied: pyjwt>=2.4.0 in /Users/athapa/jupyter-v2/lib/python3.12/site-packages (from pyjwt[crypto]>=2.4.0->pygithub->getorg) (2.10.1)\n",
      "Requirement already satisfied: typing-extensions>=4.0.0 in /Users/athapa/jupyter-v2/lib/python3.12/site-packages (from pygithub->getorg) (4.12.2)\n",
      "Requirement already satisfied: urllib3>=1.26.0 in /Users/athapa/jupyter-v2/lib/python3.12/site-packages (from pygithub->getorg) (2.2.3)\n",
      "Requirement already satisfied: Deprecated in /Users/athapa/jupyter-v2/lib/python3.12/site-packages (from pygithub->getorg) (1.2.18)\n",
      "Requirement already satisfied: charset-normalizer<4,>=2 in /Users/athapa/jupyter-v2/lib/python3.12/site-packages (from requests->folium) (3.4.0)\n",
      "Requirement already satisfied: idna<4,>=2.5 in /Users/athapa/jupyter-v2/lib/python3.12/site-packages (from requests->folium) (2.10)\n",
      "Requirement already satisfied: certifi>=2017.4.17 in /Users/athapa/jupyter-v2/lib/python3.12/site-packages (from requests->folium) (2024.8.30)\n",
      "Requirement already satisfied: six>=1.7.0 in /Users/athapa/jupyter-v2/lib/python3.12/site-packages (from retrying->getorg) (1.16.0)\n",
      "Requirement already satisfied: cryptography>=3.4.0 in /Users/athapa/jupyter-v2/lib/python3.12/site-packages (from pyjwt[crypto]>=2.4.0->pygithub->getorg) (44.0.1)\n",
      "Requirement already satisfied: cffi>=1.4.1 in /Users/athapa/jupyter-v2/lib/python3.12/site-packages (from pynacl>=1.4.0->pygithub->getorg) (1.17.1)\n",
      "Requirement already satisfied: wrapt<2,>=1.10 in /Users/athapa/jupyter-v2/lib/python3.12/site-packages (from Deprecated->pygithub->getorg) (1.16.0)\n",
      "Requirement already satisfied: pycparser in /Users/athapa/jupyter-v2/lib/python3.12/site-packages (from cffi>=1.4.1->pynacl>=1.4.0->pygithub->getorg) (2.22)\n",
      "Note: you may need to restart the kernel to use updated packages.\n"
     ]
    }
   ],
   "source": [
    "pip install getorg folium"
   ]
  },
  {
   "cell_type": "code",
   "execution_count": 2,
   "id": "86cdaac2-ac1a-4beb-836f-2f5d37900a8b",
   "metadata": {},
   "outputs": [
    {
     "name": "stdout",
     "output_type": "stream",
     "text": [
      "Iywidgets and ipyleaflet support disabled. You must be in a Jupyter notebook to use this feature.\n",
      "Error raised:\n",
      "No module named 'ipyleaflet'\n",
      "Check that you have enabled ipyleaflet in Jupyter with:\n",
      "    jupyter nbextension enable --py ipyleaflet\n"
     ]
    }
   ],
   "source": [
    "import glob\n",
    "import getorg\n",
    "from geopy import Nominatim\n",
    "import folium\n",
    "from folium.plugins import MarkerCluster"
   ]
  },
  {
   "cell_type": "code",
   "execution_count": 3,
   "id": "df493676-8240-42eb-b3d5-a0792304fbb4",
   "metadata": {},
   "outputs": [],
   "source": [
    "# Initialize the geocoder using Nominatim API\n",
    "geocoder = Nominatim(user_agent=\"location_mapper\", timeout=10)\n",
    "\n",
    "# Initialize an empty dictionary to store location data\n",
    "location_dict = {}\n",
    "\n",
    "# Create a Folium map\n",
    "m = folium.Map(location=[20, 0], zoom_start=1.8)\n",
    "\n",
    "# Create a MarkerCluster object to group markers on the map\n",
    "marker_cluster = MarkerCluster(\n",
    "\toptions={\n",
    "    \t'showCoverageOnHover': False,\n",
    "    \t'disableClusteringAtZoom': 10   \n",
    "\t}\n",
    ").add_to(m)"
   ]
  },
  {
   "cell_type": "code",
   "execution_count": 4,
   "id": "03c47d8c-217f-4d66-873f-8b1e8e63ded3",
   "metadata": {},
   "outputs": [
    {
     "name": "stdout",
     "output_type": "stream",
     "text": [
      "Toronto, Golden Horseshoe, Ontario, Canada\n",
      "43.6534817 -79.3839347\n",
      "Montréal, Agglomération de Montréal, Montréal (région administrative), Québec, Canada\n",
      "45.5031824 -73.5698065\n",
      "City of New York, New York, United States\n",
      "40.7127281 -74.0060152\n",
      "Massachusetts Institute of Technology, Main Street, Cambridge, Middlesex County, Massachusetts, 02142, United States\n",
      "42.3582529 -71.0966272383055\n",
      "Harvard University, Arsenal Square, Old Cambridge, Cambridge, Middlesex County, Massachusetts, 21410, United States\n",
      "42.365743249999994 -71.12221394207614\n",
      "Seattle, King County, Washington, United States\n",
      "47.6038321 -122.330062\n",
      "Cupertino, Santa Clara County, California, 95014, United States\n",
      "37.3228934 -122.0322895\n",
      "Sydney, Council of the City of Sydney, New South Wales, Australia\n",
      "-33.8698439 151.2082848\n",
      "London, Greater London, England, United Kingdom\n",
      "51.5074456 -0.1277653\n",
      "Wageningen, Gelderland, Nederland\n",
      "51.9663016 5.6662814\n",
      "São Paulo, Região Imediata de São Paulo, Região Metropolitana de São Paulo, Região Geográfica Intermediária de São Paulo, São Paulo, Região Sudeste, Brasil\n",
      "-23.5506507 -46.6333824\n",
      "Buenos Aires, Comuna 6, Ciudad Autónoma de Buenos Aires, Argentina\n",
      "-34.6083696 -58.4440583\n",
      "Helsinki, Helsingin seutukunta, Uusimaa, Manner-Suomi, Suomi / Finland\n",
      "60.1674881 24.9427473\n",
      "Basel, Basel-Stadt, Schweiz/Suisse/Svizzera/Svizra\n",
      "47.5581077 7.5878261\n",
      "Berlin, Deutschland\n",
      "52.510885 13.3989367\n",
      "Hamburg, Deutschland\n",
      "53.550341 10.000654\n",
      "Aachen, Städteregion Aachen, Nordrhein-Westfalen, Deutschland\n",
      "50.776351 6.083862\n",
      "München, Bayern, Deutschland\n",
      "48.1371079 11.5753822\n",
      "Wadern, Landkreis Merzig-Wadern, Saarland, 66687, Deutschland\n",
      "49.5410205 6.8889313\n",
      "Praha, obvod Praha 4, Hlavní město Praha, Praha, Česko\n",
      "50.0596288 14.446459273258009\n",
      "Chalmers Tekniska Högskola, Södra Vägen, Heden, Centrum, Göteborg, Göteborgs Stad, Västra Götalands län, 411 35, Sverige\n",
      "57.6897462 11.97652589525446\n",
      "Aarhus, Aarhus Kommune, Region Midtjylland, 8000, Danmark\n",
      "56.1496278 10.2134046\n",
      "Salzburg, 5020, Österreich\n",
      "47.7981346 13.0464806\n",
      "Wien, Österreich\n",
      "48.2083537 16.3725042\n",
      "شهر تهران, بخش مرکزی شهرستان تهران, شهرستان تهران, استان تهران, ایران\n",
      "35.6892523 51.3896004\n",
      "İstanbul, Fatih, İstanbul, Marmara Bölgesi, 34122, Türkiye\n",
      "41.006381 28.9758715\n",
      "Technische Universität München, Freisinger Landstraße, Hochschul- und Forschungszentrum, Garching bei München, Landkreis München, Bayern, 85748, Deutschland\n",
      "48.2655696 11.669345610437997\n",
      "Mensa Arcisstraße, 17, Arcisstraße, Königsplatz, Maxvorstadt, München, Bayern, 80333, Deutschland\n",
      "48.14736995 11.567016407156132\n",
      "The University of Sydney, Missenden Road, Camperdown, Inner West, Sydney, Council of the City of Sydney, New South Wales, 2050, Australia\n",
      "-33.88890725 151.18941110261173\n",
      "RWTH Aachen, Friedrich-Ebert-Allee, Burtscheid, Aachen-Mitte, Aachen, Städteregion Aachen, Nordrhein-Westfalen, 52066, Deutschland\n",
      "50.7791657 6.068920935592383\n",
      "Wageningen, Gelderland, Nederland\n",
      "51.9663016 5.6662814\n",
      "Boulevard du Temple, Quartier de la Folie-Méricourt, Paris 11e Arrondissement, Paris, France métropolitaine, 75011, France\n",
      "48.86496676867535 2.3656228787361675\n",
      "Grand Palais, Avenue de Selves, Quartier des Champs-Élysées, Paris 8e Arrondissement, Paris, France métropolitaine, 75008, France\n",
      "48.86616135 2.312222959669435\n"
     ]
    }
   ],
   "source": [
    "# Open the markdown file containing location data\n",
    "with open(\"locations.md\", 'r') as f:\n",
    "    lines = f.readlines()\n",
    "\n",
    "    for line in lines:\n",
    "        line = line.strip()  \n",
    "        special = False  \n",
    "\n",
    "        # Check if the line starts with 'Location: ', indicating a regular location\n",
    "        if line.startswith('Location: '):  \n",
    "            location = line.split(': ')[1]  \n",
    "\n",
    "        # Check if the line starts with 'Special Location: ', indicating a special location\n",
    "        if line.startswith('Special Location: '):\n",
    "            parts = line.split(', Event Title: ')\n",
    "            location = parts[0].split(': ')[1]\n",
    "            event_title = parts[1]\n",
    "            special = True  \n",
    "\n",
    "        # Use geocoding to get latitude and longitude of the location\n",
    "        location_dict[location] = geocoder.geocode(location)\n",
    "        print(location_dict[location])\n",
    "        geocoded_location = geocoder.geocode(location)  \n",
    "\n",
    "        if geocoded_location:\n",
    "            latitude = geocoded_location.latitude\n",
    "            longitude = geocoded_location.longitude  \n",
    "\n",
    "        print(latitude, longitude)\n",
    "\n",
    "        # Special locations are marked orange and other locations are marked blue\n",
    "        if special:\n",
    "            popup_text = f\"{event_title}, {location}\"\n",
    "            marker_color = \"orange\"\n",
    "        else:\n",
    "            popup_text = location  \n",
    "            marker_color = \"blue\"  \n",
    "\n",
    "        # Create a marker for the location on the map\n",
    "        folium.Marker(\n",
    "            location=[latitude, longitude],\n",
    "            popup=popup_text,  \n",
    "            icon=folium.Icon(color=marker_color)  \n",
    "        ).add_to(marker_cluster)"
   ]
  },
  {
   "cell_type": "code",
   "execution_count": 5,
   "id": "a70327be-28d8-4475-addc-91e6ab7c65e0",
   "metadata": {},
   "outputs": [],
   "source": [
    "m.save(\"location_map.html\")"
   ]
  }
 ],
 "metadata": {
  "kernelspec": {
   "display_name": "Python (jupyter-v2)",
   "language": "python",
   "name": "jupyter-v2"
  },
  "language_info": {
   "codemirror_mode": {
    "name": "ipython",
    "version": 3
   },
   "file_extension": ".py",
   "mimetype": "text/x-python",
   "name": "python",
   "nbconvert_exporter": "python",
   "pygments_lexer": "ipython3",
   "version": "3.12.7"
  }
 },
 "nbformat": 4,
 "nbformat_minor": 5
}
